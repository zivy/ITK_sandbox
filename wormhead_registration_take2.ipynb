{
 "cells": [
  {
   "cell_type": "code",
   "execution_count": null,
   "metadata": {},
   "outputs": [],
   "source": [
    "import SimpleITK as sitk\n",
    "%matplotlib inline\n",
    "import matplotlib.pyplot as plt\n",
    "import numpy as np\n",
    "import util\n",
    "import registration_callbacks\n",
    "import os\n",
    "from IPython.display import display, HTML "
   ]
  },
  {
   "cell_type": "code",
   "execution_count": null,
   "metadata": {},
   "outputs": [],
   "source": [
    "dirname_data = './datasets/2019-03-05/'"
   ]
  },
  {
   "cell_type": "markdown",
   "metadata": {},
   "source": [
    "### Load the images"
   ]
  },
  {
   "cell_type": "code",
   "execution_count": null,
   "metadata": {},
   "outputs": [],
   "source": [
    "view0 = sitk.ReadImage(os.path.normpath(dirname_data + 'head_view0_cropped.mhd'), sitk.sitkFloat32)\n",
    "view1 = sitk.ReadImage(os.path.normpath(dirname_data + 'head_view1_cropped.mhd'), sitk.sitkFloat32)\n",
    "\n",
    "# The names view0 and view1 have a meaning in some context and they play the role of fixed and moving images\n",
    "# in the registration, so we use both naming conventions and they alias the relevant images.\n",
    "fixed_image = view0\n",
    "moving_image = view1"
   ]
  },
  {
   "cell_type": "code",
   "execution_count": null,
   "metadata": {},
   "outputs": [],
   "source": [
    "print(f\"Voxel size, um: {view0.GetSpacing()}\")\n",
    "\n",
    "print(f\"View0 size, px: {view0.GetSize()}\")\n",
    "print(f\"View1 size, px: {view1.GetSize()}\")\n",
    "\n",
    "print(util.get_minmax(view0))\n",
    "print(util.get_minmax(view1))\n",
    "\n",
    "img_merge = util.merge_images_rgb(view0, view1)\n",
    "\n",
    "fig = plt.figure(figsize=(10,10))\n",
    "util.show_mips(img_merge, \"After rigid registration: view0 (fixed, green), view1 (moving, magenta), overlap (white).\")"
   ]
  },
  {
   "cell_type": "markdown",
   "metadata": {},
   "source": [
    "## Registration flow\n",
    "\n",
    "We register in three steps:\n",
    "0. Basic initialization, centering the two volumes.\n",
    "1. Affine registration, global non rigid transformation.\n",
    "2. FFD transformation, local non rigid transformation."
   ]
  },
  {
   "cell_type": "markdown",
   "metadata": {},
   "source": [
    "### Initialization"
   ]
  },
  {
   "cell_type": "code",
   "execution_count": null,
   "metadata": {},
   "outputs": [],
   "source": [
    "global_transform = sitk.CenteredTransformInitializer(fixed_image, moving_image, sitk.AffineTransform(3), \n",
    "                                                     sitk.CenteredTransformInitializerFilter.GEOMETRY)"
   ]
  },
  {
   "cell_type": "markdown",
   "metadata": {},
   "source": [
    "### Affine registration\n",
    "\n",
    "We use a single level, no need for pyramid (Occam's razor - simplest solution is preferred). We also do the registration in place, the transform variable is just updated."
   ]
  },
  {
   "cell_type": "code",
   "execution_count": null,
   "metadata": {},
   "outputs": [],
   "source": [
    "registration_method = sitk.ImageRegistrationMethod()\n",
    "registration_method.SetMetricAsCorrelation()\n",
    "registration_method.SetMetricSamplingStrategy(registration_method.RANDOM)\n",
    "registration_method.SetMetricSamplingPercentage(0.01)\n",
    "registration_method.SetInterpolator(sitk.sitkLinear)\n",
    "\n",
    "registration_method.SetOptimizerAsGradientDescent(learningRate=1.0, numberOfIterations=300)\n",
    "# Scale the step size differently for each parameter, this is critical!!!\n",
    "registration_method.SetOptimizerScalesFromPhysicalShift() \n",
    "\n",
    "registration_method.SetInitialTransform(global_transform, inPlace=True)\n",
    "\n",
    "registration_method.AddCommand(sitk.sitkStartEvent, registration_callbacks.metric_start_plot)\n",
    "registration_method.AddCommand(sitk.sitkEndEvent, registration_callbacks.metric_end_plot)\n",
    "registration_method.AddCommand(sitk.sitkMultiResolutionIterationEvent, \n",
    "                              registration_callbacks.metric_update_multires_iterations) \n",
    "registration_method.AddCommand(sitk.sitkIterationEvent, \n",
    "                              lambda: registration_callbacks.metric_plot_values(registration_method))\n",
    "\n",
    "registration_method.Execute(fixed=fixed_image, moving=moving_image)\n",
    "print('Optimizer\\'s stopping condition, {0}'.format(registration_method.GetOptimizerStopConditionDescription()))\n",
    "print('Final metric value: {0}'.format(registration_method.GetMetricValue()))"
   ]
  },
  {
   "cell_type": "code",
   "execution_count": null,
   "metadata": {},
   "outputs": [],
   "source": [
    "view1_registered = sitk.Resample(view1, view0, global_transform, sitk.sitkLinear, 0.0, view0.GetPixelID())\n",
    "img_merge = util.merge_images_rgb(view0, view1_registered)\n",
    "\n",
    "fig = plt.figure(figsize=(10,10))\n",
    "util.show_mips(img_merge, \"Affine registration: view0 (fixed, green), view1 (moving, magenta), overlap (white).\", scalebar=10)"
   ]
  },
  {
   "cell_type": "markdown",
   "metadata": {},
   "source": [
    "### FFD\n",
    "\n",
    "We use the results from the affine registration to initialize the moving tranformation (never modified during optimization) and the FFD transformation is initialized with all parameters set to zero. The FFD transformation is modified in place and then we compose the optimal FFD and the affine transformation into a composite transform, which is the final result of our three step registration."
   ]
  },
  {
   "cell_type": "code",
   "execution_count": null,
   "metadata": {},
   "outputs": [],
   "source": [
    "registration_method = sitk.ImageRegistrationMethod()\n",
    "# Determine the number of BSpline control points using the physical spacing we want for the control grid. \n",
    "grid_physical_spacing = [10.0, 10.0, 10.0] # A control point every 10 um\n",
    "image_physical_size = [size*spacing for size,spacing in zip(fixed_image.GetSize(), fixed_image.GetSpacing())]\n",
    "mesh_size = [int(image_size/grid_spacing + 0.5) \\\n",
    "             for image_size,grid_spacing in zip(image_physical_size,grid_physical_spacing)]\n",
    "\n",
    "local_transform = sitk.BSplineTransformInitializer(image1 = fixed_image, transformDomainMeshSize = mesh_size, order=3)    \n",
    "registration_method.SetInitialTransform(local_transform, inPlace = True)\n",
    "registration_method.SetMovingInitialTransform(global_transform)\n",
    "registration_method.SetMetricAsCorrelation()\n",
    "registration_method.SetMetricSamplingStrategy(registration_method.RANDOM)\n",
    "registration_method.SetMetricSamplingPercentage(0.01)\n",
    "registration_method.SetInterpolator(sitk.sitkLinear)\n",
    "\n",
    "registration_method.SetOptimizerAsLBFGSB(gradientConvergenceTolerance=1e-5, numberOfIterations=50)\n",
    "\n",
    "registration_method.AddCommand(sitk.sitkStartEvent, registration_callbacks.metric_start_plot)\n",
    "registration_method.AddCommand(sitk.sitkEndEvent, registration_callbacks.metric_end_plot)\n",
    "registration_method.AddCommand(sitk.sitkMultiResolutionIterationEvent, \n",
    "                              registration_callbacks.metric_update_multires_iterations) \n",
    "registration_method.AddCommand(sitk.sitkIterationEvent, \n",
    "                               lambda: registration_callbacks.metric_plot_values(registration_method))\n",
    "registration_method.Execute(fixed_image, moving_image)\n",
    "# Need to compose the transformations after registration.\n",
    "final_transform = sitk.CompositeTransform([global_transform,local_transform])\n",
    "print('Optimizer\\'s stopping condition, {0}'.format(registration_method.GetOptimizerStopConditionDescription()))\n",
    "print('Final metric value: {0}'.format(registration_method.GetMetricValue()))"
   ]
  },
  {
   "cell_type": "code",
   "execution_count": null,
   "metadata": {},
   "outputs": [],
   "source": [
    "view1_registered = sitk.Resample(view1, view0, global_transform, sitk.sitkLinear, 0.0, view0.GetPixelID())\n",
    "img_merge = util.merge_images_rgb(view0, view1_registered)\n",
    "\n",
    "fig = plt.figure(figsize=(10,10))\n",
    "util.show_mips(img_merge, \"FFD registration: view0 (fixed, green), view1 (moving, magenta), overlap (white).\", scalebar=10)"
   ]
  }
 ],
 "metadata": {
  "kernelspec": {
   "display_name": "Python 3",
   "language": "python",
   "name": "python3"
  },
  "language_info": {
   "codemirror_mode": {
    "name": "ipython",
    "version": 3
   },
   "file_extension": ".py",
   "mimetype": "text/x-python",
   "name": "python",
   "nbconvert_exporter": "python",
   "pygments_lexer": "ipython3",
   "version": "3.7.3"
  }
 },
 "nbformat": 4,
 "nbformat_minor": 4
}
